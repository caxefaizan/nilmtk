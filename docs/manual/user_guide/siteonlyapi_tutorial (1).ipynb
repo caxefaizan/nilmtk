{
 "cells": [
  {
   "cell_type": "markdown",
   "metadata": {},
   "source": [
    "# Diasaggregate your Home/Building Mains Meter Data\n",
    "\n",
    "### This notebook demonstrates the use of siteonlyapi - a new NILMTK interface which is an modification of NILMTK's ExperimentAPI. It allows NILMTK users to get their home/buildings energy demands for different potential appliances.\n",
    "\n",
    "Lets us start with a very simple experiment to demonstrate the use of this API. This experiment shows how the user can convert their meter data into proper REDD format, and call the API  to disaggregate the energy into appliance demands based on the training set.\n"
   ]
  },
  {
   "cell_type": "code",
   "execution_count": 1,
   "metadata": {},
   "outputs": [],
   "source": [
    "import pandas as pd\n",
    "import numpy as np\n",
    "from nilmtk.datastore import Key\n",
    "from nilmtk.utils import check_directory_exists, get_datastore, get_module_directory\n",
    "from nilm_metadata import convert_yaml_to_hdf5"
   ]
  },
  {
   "cell_type": "markdown",
   "metadata": {},
   "source": [
    "Convert meter data into proper format"
   ]
  },
  {
   "cell_type": "code",
   "execution_count": 2,
   "metadata": {},
   "outputs": [],
   "source": [
    "def convert_data(file_path):\n",
    "    '''\n",
    "    Parameters\n",
    "    ------------\n",
    "    Takes input csv_file name to be tested.\n",
    "    Data columns of the csv should contain following the following values in columns:\n",
    "    timestamp,reactive_power,apparent_power,current,frequency,voltage,active_power) \n",
    "    Converts it into hdf5 Format and save as test.h5.\n",
    "    '''\n",
    "    df = pd.read_csv(f'{file_path}',names =['timestamp','R','A','C','F','V','T'])\n",
    "    column_mapping = {\n",
    "        'F': ('frequency', \"\"),\n",
    "        'V': ('voltage', \"\"),\n",
    "        'T': ('power', 'active'),\n",
    "        'C': ('current', ''),\n",
    "        'R': ('power', 'reactive'),\n",
    "        'A': ('power', 'apparent'),\n",
    "    }\n",
    "\n",
    "    TIMESTAMP_COLUMN_NAME = \"timestamp\"\n",
    "    TIMEZONE = \"Asia/Kolkata\"\n",
    "    FREQ = \"1T\"\n",
    "    LEVEL_NAMES = ['physical_quantity', 'type']\n",
    "    output_filename = 'test.h5'\n",
    "\n",
    "    # Open data store\n",
    "    store = get_datastore(output_filename, format='HDF', mode='w')\n",
    "    key = Key(building=1, meter=1)\n",
    "    print('Loading ', 1)\n",
    "    df.index = pd.to_datetime(df.timestamp.values)\n",
    "    df = df.tz_convert(TIMEZONE) #  if error occurs use tz_localize for tz naive timestamps\n",
    "    df = df.drop(TIMESTAMP_COLUMN_NAME, 1)\n",
    "    df.index = pd.to_datetime(df.index.values)\n",
    "    df.columns = pd.MultiIndex.from_tuples(\n",
    "                [column_mapping[x] for x in df.columns],\n",
    "                names=LEVEL_NAMES\n",
    "            )\n",
    "    df = df.apply(pd.to_numeric, errors='ignore')\n",
    "    df = df.dropna()\n",
    "    df = df.astype(np.float32)\n",
    "    df = df.sort_index()\n",
    "    df = df.resample(\"1T\").mean()\n",
    "    assert df.isnull().sum().sum() == 0\n",
    "    store.put(str(key), df)\n",
    "    store.close()\n",
    "    convert_yaml_to_hdf5('./metadata', output_filename)\n",
    "\n",
    "    print(\"Done converting test data to HDF5!\")"
   ]
  },
  {
   "cell_type": "markdown",
   "metadata": {},
   "source": [
    "Calling the function here"
   ]
  },
  {
   "cell_type": "code",
   "execution_count": 3,
   "metadata": {},
   "outputs": [
    {
     "name": "stdout",
     "output_type": "stream",
     "text": [
      "Loading  1\n",
      "Done converting YAML metadata to HDF5!\n",
      "Done converting test data to HDF5!\n"
     ]
    }
   ],
   "source": [
    "convert_data('ac_seconds4.csv')"
   ]
  },
  {
   "cell_type": "markdown",
   "metadata": {},
   "source": [
    "import different algorithms for disaggregations"
   ]
  },
  {
   "cell_type": "code",
   "execution_count": 4,
   "metadata": {},
   "outputs": [],
   "source": [
    "from nilmtk.disaggregate import Hart85\n",
    "from nilmtk.disaggregate import Mean\n",
    "from nilmtk.disaggregate import CO\n",
    "from nilmtk.disaggregate import FHMMExact"
   ]
  },
  {
   "cell_type": "markdown",
   "metadata": {},
   "source": [
    "Here you may change the start and end dates of your test data set and also, we enter the values for the different parameters in the dictionary. Since we need multiple appliances, we enter the names of all the required appliances in the 'appliances' parameter."
   ]
  },
  {
   "cell_type": "code",
   "execution_count": 5,
   "metadata": {},
   "outputs": [],
   "source": [
    "experiment1 = {\n",
    "    'power': {'mains': ['active'],'appliance': ['active']},\n",
    "    'sample_rate': 60,\n",
    "    'appliances': ['air conditioner','fridge','washing machine','clothes iron','television'],\n",
    "    'methods': {\"CO\":CO({}),\"FHMM\":FHMMExact({'num_of_states':2}),'Mean':Mean({}),'Hart':Hart85({})},\n",
    "    'site_only' : True,\n",
    "  'train': {    \n",
    "    'datasets': {\n",
    "        'iAWE': {\n",
    "            'path': './iAWE.h5',\n",
    "            'buildings': {\n",
    "                1: {\n",
    "                    'start_time': '2013-07-13', \n",
    "                    'end_time': '2013-08-04'\n",
    "                    }\n",
    "                }                \n",
    "            }\n",
    "        }\n",
    "    },\n",
    "  'test': {\n",
    "    'datasets': {\n",
    "        'CAXE': {\n",
    "            'path': './test.h5',\n",
    "            'buildings': {\n",
    "                1: {\n",
    "                    'start_time': '2020-08-12',\n",
    "                    'end_time': '2020-08-14'\n",
    "                    }\n",
    "                }\n",
    "            }\n",
    "        },\n",
    "        'metrics':['rmse']\n",
    "    }\n",
    "}"
   ]
  },
  {
   "cell_type": "code",
   "execution_count": 6,
   "metadata": {},
   "outputs": [],
   "source": [
    "from api import API   #  from nilmtk.api import API\n",
    "import warnings\n",
    "warnings.filterwarnings(\"ignore\")"
   ]
  },
  {
   "cell_type": "code",
   "execution_count": 7,
   "metadata": {
    "scrolled": false
   },
   "outputs": [
    {
     "name": "stdout",
     "output_type": "stream",
     "text": [
      "Joint Testing for all algorithms\n",
      "Loading data for  CAXE  dataset\n",
      "Dropping missing values\n",
      "Generating predictions for : CO\n",
      "...............CO disaggregate_chunk running.............\n",
      "Generating predictions for : FHMMvision'n'ne'\n",
      "Generating predictions for : Mean\n",
      "Generating predictions for : Hart85\n",
      "Finding Edges, please wait ...\n",
      "Edge detection complete.\n",
      "Creating transition frame ...\n",
      "Transition frame created.\n",
      "Creating states frame ...\n",
      "States frame created.\n",
      "Finished.\n"
     ]
    },
    {
     "data": {
      "image/png": "[encoded data removed]",
      "text/plain": [
       "<Figure size 432x288 with 1 Axes>"
      ]
     },
     "metadata": {
      "needs_background": "light"
     },
     "output_type": "display_data"
    },
    {
     "data": {
      "image/png": "[encoded data removed]",
      "text/plain": [
       "<Figure size 432x288 with 1 Axes>"
      ]
     },
     "metadata": {
      "needs_background": "light"
     },
     "output_type": "display_data"
    },
    {
     "data": {
      "image/png": "[encoded data removed]",
      "text/plain": [
       "<Figure size 432x288 with 1 Axes>"
      ]
     },
     "metadata": {
      "needs_background": "light"
     },
     "output_type": "display_data"
    },
    {
     "data": {
      "image/png": "[encoded data removed]",
      "text/plain": [
       "<Figure size 432x288 with 1 Axes>"
      ]
     },
     "metadata": {
      "needs_background": "light"
     },
     "output_type": "display_data"
    }
   ],
   "source": [
    "api_results_experiment_1 = API(experiment1)"
   ]
  },
  {
   "cell_type": "code",
   "execution_count": 8,
   "metadata": {},
   "outputs": [],
   "source": [
    "df = (api_results_experiment_1.pred_overall['CO'])"
   ]
  },
  {
   "cell_type": "markdown",
   "metadata": {},
   "source": [
    "Getting Predictions Dataframe"
   ]
  },
  {
   "cell_type": "code",
   "execution_count": 9,
   "metadata": {},
   "outputs": [
    {
     "data": {
      "text/html": [
       "<div>\n",
       "<style scoped>\n",
       "    .dataframe tbody tr th:only-of-type {\n",
       "        vertical-align: middle;\n",
       "    }\n",
       "\n",
       "    .dataframe tbody tr th {\n",
       "        vertical-align: top;\n",
       "    }\n",
       "\n",
       "    .dataframe thead th {\n",
       "        text-align: right;\n",
       "    }\n",
       "</style>\n",
       "<table border=\"1\" class=\"dataframe\">\n",
       "  <thead>\n",
       "    <tr style=\"text-align: right;\">\n",
       "      <th></th>\n",
       "      <th>air conditioner</th>\n",
       "      <th>fridge</th>\n",
       "      <th>washing machine</th>\n",
       "      <th>clothes iron</th>\n",
       "      <th>television</th>\n",
       "    </tr>\n",
       "  </thead>\n",
       "  <tbody>\n",
       "    <tr>\n",
       "      <th>0</th>\n",
       "      <td>0.0</td>\n",
       "      <td>84.0</td>\n",
       "      <td>0.0</td>\n",
       "      <td>0.0</td>\n",
       "      <td>70.0</td>\n",
       "    </tr>\n",
       "    <tr>\n",
       "      <th>1</th>\n",
       "      <td>0.0</td>\n",
       "      <td>84.0</td>\n",
       "      <td>0.0</td>\n",
       "      <td>0.0</td>\n",
       "      <td>74.0</td>\n",
       "    </tr>\n",
       "    <tr>\n",
       "      <th>2</th>\n",
       "      <td>0.0</td>\n",
       "      <td>84.0</td>\n",
       "      <td>0.0</td>\n",
       "      <td>0.0</td>\n",
       "      <td>74.0</td>\n",
       "    </tr>\n",
       "    <tr>\n",
       "      <th>3</th>\n",
       "      <td>0.0</td>\n",
       "      <td>84.0</td>\n",
       "      <td>0.0</td>\n",
       "      <td>0.0</td>\n",
       "      <td>74.0</td>\n",
       "    </tr>\n",
       "    <tr>\n",
       "      <th>4</th>\n",
       "      <td>0.0</td>\n",
       "      <td>84.0</td>\n",
       "      <td>0.0</td>\n",
       "      <td>0.0</td>\n",
       "      <td>74.0</td>\n",
       "    </tr>\n",
       "    <tr>\n",
       "      <th>...</th>\n",
       "      <td>...</td>\n",
       "      <td>...</td>\n",
       "      <td>...</td>\n",
       "      <td>...</td>\n",
       "      <td>...</td>\n",
       "    </tr>\n",
       "    <tr>\n",
       "      <th>110</th>\n",
       "      <td>0.0</td>\n",
       "      <td>0.0</td>\n",
       "      <td>0.0</td>\n",
       "      <td>0.0</td>\n",
       "      <td>0.0</td>\n",
       "    </tr>\n",
       "    <tr>\n",
       "      <th>111</th>\n",
       "      <td>0.0</td>\n",
       "      <td>0.0</td>\n",
       "      <td>0.0</td>\n",
       "      <td>0.0</td>\n",
       "      <td>0.0</td>\n",
       "    </tr>\n",
       "    <tr>\n",
       "      <th>112</th>\n",
       "      <td>0.0</td>\n",
       "      <td>0.0</td>\n",
       "      <td>0.0</td>\n",
       "      <td>0.0</td>\n",
       "      <td>0.0</td>\n",
       "    </tr>\n",
       "    <tr>\n",
       "      <th>113</th>\n",
       "      <td>0.0</td>\n",
       "      <td>0.0</td>\n",
       "      <td>0.0</td>\n",
       "      <td>0.0</td>\n",
       "      <td>0.0</td>\n",
       "    </tr>\n",
       "    <tr>\n",
       "      <th>114</th>\n",
       "      <td>0.0</td>\n",
       "      <td>0.0</td>\n",
       "      <td>220.0</td>\n",
       "      <td>0.0</td>\n",
       "      <td>74.0</td>\n",
       "    </tr>\n",
       "  </tbody>\n",
       "</table>\n",
       "<p>115 rows × 5 columns</p>\n",
       "</div>"
      ],
      "text/plain": [
       "     air conditioner  fridge  washing machine  clothes iron  television\n",
       "0                0.0    84.0              0.0           0.0        70.0\n",
       "1                0.0    84.0              0.0           0.0        74.0\n",
       "2                0.0    84.0              0.0           0.0        74.0\n",
       "3                0.0    84.0              0.0           0.0        74.0\n",
       "4                0.0    84.0              0.0           0.0        74.0\n",
       "..               ...     ...              ...           ...         ...\n",
       "110              0.0     0.0              0.0           0.0         0.0\n",
       "111              0.0     0.0              0.0           0.0         0.0\n",
       "112              0.0     0.0              0.0           0.0         0.0\n",
       "113              0.0     0.0              0.0           0.0         0.0\n",
       "114              0.0     0.0            220.0           0.0        74.0\n",
       "\n",
       "[115 rows x 5 columns]"
      ]
     },
     "execution_count": 9,
     "metadata": {},
     "output_type": "execute_result"
    }
   ],
   "source": [
    "df"
   ]
  }
 ],
 "metadata": {
  "kernelspec": {
   "display_name": "Python 3",
   "language": "python",
   "name": "python3"
  },
  "language_info": {
   "codemirror_mode": {
    "name": "ipython",
    "version": 3
   },
   "file_extension": ".py",
   "mimetype": "text/x-python",
   "name": "python",
   "nbconvert_exporter": "python",
   "pygments_lexer": "ipython3",
   "version": "3.6.11"
  }
 },
 "nbformat": 4,
 "nbformat_minor": 4
}
